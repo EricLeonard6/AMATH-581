{
 "cells": [
  {
   "cell_type": "code",
   "execution_count": 1,
   "id": "9bb8f6f8-da10-4809-bf8c-581265a38d0b",
   "metadata": {},
   "outputs": [],
   "source": [
    "import numpy as np"
   ]
  },
  {
   "cell_type": "markdown",
   "id": "552b36cf-bb6b-4c51-9667-9163e67ea53d",
   "metadata": {},
   "source": [
    "# AMATH 581 Homework 1\n",
    "## Eric Leonard, ericcl@uw.edu"
   ]
  },
  {
   "cell_type": "markdown",
   "id": "871b66fe-074f-4e63-b663-477b8bdec5fe",
   "metadata": {},
   "source": [
    "## Problem 1\n",
    "Consider the function\n",
    "\n",
    "$$f(x) = x \\sin(3x) − \\exp(x)$$\n",
    "\n",
    "and solve for the $x$-value near $x \\approx −0.5$ that satisfies $f(x) = 0$. In the first part, use\n",
    "the Newton-Raphson method with the initial guess $x(1) = −1.6$ to converge (in absolute\n",
    "value) to the solution to $10^{−6}$. \n",
    "\n",
    "Keep track of the number of iterations until convergence\n",
    "is achieved (NOTE: please check convergence with $f(x_n)$ not $f(x_{n+1}))$. In the second\n",
    "part, use bisection with the initial end points $x = −0.7$ and $x = −0.4$. Keep track of the\n",
    "mid point values and number of iterations until an accuracy of $10^{−6}$ is achieved.\n",
    "\n",
    "ANSWERS: Should be written out as A1.npy, A2.npy, and A3.npy. Specifically, A1.npy\n",
    "is the vector of $x$-values in the Newton method starting with the initial guess $x(1) = −1.6$, and A2.npy is the mid point ($x_{mid}$) values in the bisection method for successive iterations. A3.npy is a $1\\times2$ vector with the number of iterations for the Newton and bisection respectively as the two components."
   ]
  },
  {
   "cell_type": "code",
   "execution_count": 2,
   "id": "78f3addd-053b-480a-bbdf-4b7435ffa955",
   "metadata": {},
   "outputs": [],
   "source": [
    "def Newton(f, fprime, x0, tol):\n",
    "    \"\"\"\n",
    "    Perform Newton's method to find the root of a function f, starting from an initial guess x0.\n",
    "    \n",
    "    Parameters:\n",
    "    f : function\n",
    "        The function for which we want to find the root.\n",
    "    fprime : function\n",
    "        The derivative of the function f.\n",
    "    x0 : float\n",
    "        The initial guess for the root.\n",
    "    tol: float\n",
    "        The tolerance the solution needs to converge to before stopping.\n",
    "    \n",
    "    Returns:\n",
    "    numpy.ndarray\n",
    "        An array of the successive approximations (steps) for the root, where each entry is a refined guess.\n",
    "    \"\"\"\n",
    "    steps = [x0]\n",
    "    while True:\n",
    "        x0 -= f(x0) / fprime(x0)\n",
    "        steps.append(x0)\n",
    "        if abs(f(steps[-2])) < tol:\n",
    "            break\n",
    "        \n",
    "    return np.array(steps)\n",
    "\n",
    "\n",
    "\n",
    "def bisection(f, a, b, tol):\n",
    "    \"\"\"\n",
    "    Find a root of the function f within the interval [a, b] using the bisection method.\n",
    "    \n",
    "    Parameters:\n",
    "    f : function\n",
    "        The function whose root is to be found.\n",
    "    a : float\n",
    "        The left-most endpoint of the starting interval.\n",
    "    b : float\n",
    "        The right-most endpoint of the starting interval.\n",
    "    tol : float\n",
    "        An array The tolerance; the algorithm stops when the interval is smaller than tol.\n",
    "    \n",
    "    Returns:\n",
    "    numpy.ndarray\n",
    "        An array of the successive approximations (steps) for the root, where each entry is a refined guess.\n",
    "    \"\"\"\n",
    "    if f(a) * f(b) > 0:\n",
    "        raise ValueError(\"The function must have opposite signs at a and b. Try a new interval.\")\n",
    "\n",
    "    midpoints = []\n",
    "    while True:\n",
    "        midpoint = (a + b) / 2.0\n",
    "        midpoints.append(midpoint)\n",
    "        f_mid = f(midpoint)\n",
    "        if abs(f((b + a) / 2.0)) < tol:\n",
    "            break\n",
    "        if f(a) * f_mid < 0:\n",
    "            b = midpoint\n",
    "        else:\n",
    "            a = midpoint\n",
    "            \n",
    "    return np.array(midpoints)"
   ]
  },
  {
   "cell_type": "code",
   "execution_count": 3,
   "id": "6a67943b-dca4-4f32-adec-acd728af4508",
   "metadata": {},
   "outputs": [],
   "source": [
    "f = lambda x: x * np.sin(3*x) - np.exp(x)\n",
    "fprime = lambda x: np.sin(3*x) + 3 * x * np.cos(3*x) - np.exp(x)"
   ]
  },
  {
   "cell_type": "code",
   "execution_count": 4,
   "id": "675ce614-e2f4-46f2-9052-39db2d8d0aa0",
   "metadata": {},
   "outputs": [
    {
     "name": "stdout",
     "output_type": "stream",
     "text": [
      "[-1.6         3.19799514  2.46440244  1.2035359   0.65020146 -0.11692334\n",
      " -0.66052349 -0.52192654 -0.56655274 -0.57074658 -0.57078962 -0.57078962]\n"
     ]
    }
   ],
   "source": [
    "A1 = Newton(f, fprime, -1.6, 1e-6)\n",
    "print(A1)"
   ]
  },
  {
   "cell_type": "code",
   "execution_count": 5,
   "id": "04313871-1a5d-40e3-9365-f4e0be0ee2eb",
   "metadata": {},
   "outputs": [
    {
     "name": "stdout",
     "output_type": "stream",
     "text": [
      "[-0.55       -0.625      -0.5875     -0.56875    -0.578125   -0.5734375\n",
      " -0.57109375 -0.56992188 -0.57050781 -0.57080078 -0.5706543  -0.57072754\n",
      " -0.57076416 -0.57078247 -0.57079163 -0.57078705 -0.57078934]\n"
     ]
    }
   ],
   "source": [
    "A2 = bisection(f, -0.7, -0.4, 1e-6)\n",
    "print(A2)"
   ]
  },
  {
   "cell_type": "code",
   "execution_count": 6,
   "id": "6ae716b5-f207-4b2d-a075-5cf4ff9da2a5",
   "metadata": {},
   "outputs": [
    {
     "name": "stdout",
     "output_type": "stream",
     "text": [
      "[11 17]\n"
     ]
    }
   ],
   "source": [
    "A3 = np.array([len(A1)-1, len(A2)]) #subtract 1 from newton's to not count the initial x0 as an iteration\n",
    "print(A3)"
   ]
  },
  {
   "cell_type": "markdown",
   "id": "e4b5871d-247b-4e9d-bff0-8964dccf2a52",
   "metadata": {},
   "source": [
    "## Problem 2\n",
    "Let the following be defined:\n",
    "\n",
    "$$\\textbf{A} = \\begin{bmatrix}\n",
    "1 & 2\\\\\n",
    "-1 & 1\n",
    "\\end{bmatrix},\\ \n",
    "\\textbf{B} = \\begin{bmatrix}\n",
    "2 & 0\\\\\n",
    "0 & 2\n",
    "\\end{bmatrix},\\ \n",
    "\\textbf{C} = \\begin{bmatrix}\n",
    "2 & 0 & -3\\\\\n",
    "0 & 0 & -1\n",
    "\\end{bmatrix},\\ \n",
    "\\textbf{D} = \\begin{bmatrix}\n",
    "1 & 2\\\\\n",
    "2 & 3\\\\\n",
    "-1 & 0\n",
    "\\end{bmatrix},\\ \n",
    "\\textbf{x} = \\begin{bmatrix}\n",
    "1\\\\\n",
    "0\n",
    "\\end{bmatrix},\\ \n",
    "\\textbf{y} = \\begin{bmatrix}\n",
    "0\\\\\n",
    "1\n",
    "\\end{bmatrix},\\ \n",
    "\\textbf{z} = \\begin{bmatrix}\n",
    "1\\\\\n",
    "2\\\\\n",
    "-1\n",
    "\\end{bmatrix},\\ \n",
    "$$\n",
    "\n",
    "Calculate the following:\n",
    "\n",
    "**(a)** $\\textbf{A} + \\textbf{B}$, \n",
    "\n",
    "**(b)** $3\\textbf{x} - 4\\textbf{y}$, \n",
    "\n",
    "**(c)** $\\textbf{A}\\textbf{x}$, \n",
    "\n",
    "**(d)** $\\textbf{B}(\\textbf{x}-\\textbf{y})$, \n",
    "\n",
    "**(e)** $\\textbf{D} \\textbf{x}$, \n",
    "\n",
    "**(f)** $\\textbf{D} \\textbf{y} + \\textbf{z}$, \n",
    "\n",
    "**(g)** $\\textbf{AB}$, \n",
    "\n",
    "**(h)** $\\textbf{BC}$, \n",
    "\n",
    "**(i)** $\\textbf{CD}$"
   ]
  },
  {
   "cell_type": "code",
   "execution_count": 7,
   "id": "05cec60c-123f-4ae4-a0e8-86ff4285e212",
   "metadata": {},
   "outputs": [],
   "source": [
    "A = np.array([[1, 2],\n",
    "             [-1, 1]])\n",
    "B = np.array([[2, 0],\n",
    "                [0, 2]])\n",
    "C = np.array([[2, 0, -3],\n",
    "              [0, 0, -1]])\n",
    "D = np.array([[1, 2],\n",
    "              [2, 3],\n",
    "              [-1, 0]])\n",
    "x = np.array([[1], \n",
    "              [0]])\n",
    "y = np.array([[0],\n",
    "              [1]])\n",
    "z = np.array([[1],\n",
    "              [2],\n",
    "              [-1]])"
   ]
  },
  {
   "cell_type": "code",
   "execution_count": 8,
   "id": "208000be-5af2-46eb-9411-1505f4d81b8e",
   "metadata": {},
   "outputs": [
    {
     "name": "stdout",
     "output_type": "stream",
     "text": [
      "A4:\n",
      "[[ 3  2]\n",
      " [-1  3]]\n",
      "\n",
      "A5:\n",
      "[ 3 -4]\n",
      "\n",
      "A6:\n",
      "[ 1 -1]\n",
      "\n",
      "A7:\n",
      "[ 2 -2]\n",
      "\n",
      "A8:\n",
      "[ 1  2 -1]\n",
      "\n",
      "A9:\n",
      "[ 3  5 -1]\n",
      "\n",
      "A10:\n",
      "[[ 2  4]\n",
      " [-2  2]]\n",
      "\n",
      "A11:\n",
      "[[ 4  0 -6]\n",
      " [ 0  0 -2]]\n",
      "\n",
      "A12:\n",
      "[[5 4]\n",
      " [1 0]]\n",
      "\n"
     ]
    }
   ],
   "source": [
    "A4 = A + B\n",
    "A5 = (3*x - 4*y).T[0]\n",
    "A6 = (A @ x).T[0]\n",
    "A7 = (B @ (x - y)).T[0]\n",
    "A8 = (D @ x).T[0]\n",
    "A9 = (D @ y + z).T[0]\n",
    "A10 = A @ B\n",
    "A11 = B @ C\n",
    "A12 = C @ D\n",
    "\n",
    "Q2 = [globals()[f\"A{i}\"] for i in range(4,13)]\n",
    "for i, ans, in enumerate(Q2):\n",
    "    print(f\"A{i+4}:\")\n",
    "    print(ans)\n",
    "    print()"
   ]
  }
 ],
 "metadata": {
  "kernelspec": {
   "display_name": "Python 3 (ipykernel)",
   "language": "python",
   "name": "python3"
  },
  "language_info": {
   "codemirror_mode": {
    "name": "ipython",
    "version": 3
   },
   "file_extension": ".py",
   "mimetype": "text/x-python",
   "name": "python",
   "nbconvert_exporter": "python",
   "pygments_lexer": "ipython3",
   "version": "3.11.3"
  }
 },
 "nbformat": 4,
 "nbformat_minor": 5
}
