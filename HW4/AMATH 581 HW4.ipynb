{
 "cells": [
  {
   "cell_type": "code",
   "execution_count": 1,
   "id": "6c59c29c-14c0-45d4-9fc8-175bd132dbc7",
   "metadata": {},
   "outputs": [],
   "source": [
    "import numpy as np\n",
    "import matplotlib.pyplot as plt\n",
    "from scipy.sparse import spdiags, kron, eye\n",
    "from scipy.sparse.linalg import aslinearoperator"
   ]
  },
  {
   "cell_type": "markdown",
   "id": "1df2ffd4-b450-4285-a948-01daa938a2c7",
   "metadata": {},
   "source": [
    "# AMATH 581 Homework 4\n",
    "## Eric Leonard, ericcl@uw.edu"
   ]
  },
  {
   "cell_type": "markdown",
   "id": "ec3c6531-e5e7-4f33-9643-fb2d569d274a",
   "metadata": {},
   "source": [
    "## Problem 1\n",
    "The time evolution of the vorticity $\\omega(x, y, t)$ and streamfunction $\\psi(x, y, t)$ are given by the governing equations:\n",
    "\n",
    "$$\\omega_t + [\\psi, \\omega] = \\nu\\nabla^2 \\omega$$\n",
    "\n",
    "where $[\\psi, \\omega] = \\psi_x\\omega_y − \\psi_y\\omega_x$, $\\nabla^2 = \\partial^2_x + \\partial^2_y$, \n",
    "\n",
    "and the streamfunction satisfies\n",
    "\n",
    "$$\\nabla^2\\psi = \\omega$$\n",
    "\n",
    "Boundary Conditions: Assume periodic boundary conditions for both vorticity and streamfunction.\n",
    "\n",
    "**(a)** Using the **spdiags** command, generate the three matrices $\\textbf{A} = \\partial^2_x + \\partial^2_y$, $\\textbf{B} = \\partial_x$, and $\\textbf{C} = \\partial_y$ which take these derivatives in two dimensions.\n",
    "\n",
    "**ANSWERS**: With $x, y \\in [−10, 10]$, $n = 8$, write out the matrix solutions of your numerical evolution as ```A1```,\n",
    "```A2``` and ```A3``` for $\\textbf{A}$, $\\textbf{B}$ and $\\textbf{C}$ respectively.\n",
    "\n",
    "**NOTE**: You can’t write out sparse matrices to ASCII files, so be sure to first make the matrices full."
   ]
  },
  {
   "cell_type": "code",
   "execution_count": 2,
   "id": "3b858e10-1951-45bd-87ac-cac158c19f71",
   "metadata": {},
   "outputs": [
    {
     "data": {
      "text/plain": [
       "(array([[-0.64,  0.16,  0.  , ...,  0.  ,  0.  ,  0.  ],\n",
       "        [ 0.16, -0.64,  0.16, ...,  0.  ,  0.  ,  0.  ],\n",
       "        [ 0.  ,  0.16, -0.64, ...,  0.  ,  0.  ,  0.  ],\n",
       "        ...,\n",
       "        [ 0.  ,  0.  ,  0.  , ..., -0.64,  0.16,  0.  ],\n",
       "        [ 0.  ,  0.  ,  0.  , ...,  0.16, -0.64,  0.16],\n",
       "        [ 0.  ,  0.  ,  0.  , ...,  0.  ,  0.16, -0.64]]),\n",
       " array([[0., 0., 0., ..., 0., 0., 0.],\n",
       "        [0., 0., 0., ..., 0., 0., 0.],\n",
       "        [0., 0., 0., ..., 0., 0., 0.],\n",
       "        ...,\n",
       "        [0., 0., 0., ..., 0., 0., 0.],\n",
       "        [0., 0., 0., ..., 0., 0., 0.],\n",
       "        [0., 0., 0., ..., 0., 0., 0.]]),\n",
       " array([[ 0. ,  0.2,  0. , ...,  0. ,  0. ,  0. ],\n",
       "        [-0.2,  0. ,  0.2, ...,  0. ,  0. ,  0. ],\n",
       "        [ 0. , -0.2,  0. , ...,  0. ,  0. ,  0. ],\n",
       "        ...,\n",
       "        [ 0. ,  0. ,  0. , ...,  0. ,  0.2,  0. ],\n",
       "        [ 0. ,  0. ,  0. , ..., -0.2,  0. ,  0.2],\n",
       "        [ 0. ,  0. ,  0. , ...,  0. , -0.2,  0. ]]))"
      ]
     },
     "execution_count": 2,
     "metadata": {},
     "output_type": "execute_result"
    }
   ],
   "source": [
    "# Define parameters\n",
    "L = 20  # domain length (from -10 to 10, so length is 20)\n",
    "n = 8   # number of points in each direction\n",
    "h = L / n  # grid spacing\n",
    "\n",
    "# Create finite difference matrices with periodic boundary conditions\n",
    "# 1D second derivative matrix with periodic boundary\n",
    "e = np.ones(n)\n",
    "D2 = spdiags([e, -2 * e, e], [-1, 0, 1], n, n).toarray()\n",
    "D2[0, -1] = 1  # periodic boundary condition\n",
    "D2[-1, 0] = 1\n",
    "D2 = D2 / h**2  # scale by h^2\n",
    "\n",
    "# 1D first derivative matrix with periodic boundary for x-derivative\n",
    "D1x = spdiags([-e, e], [-1, 1], n, n).toarray()\n",
    "D1x[0, -1] = -1  # periodic boundary condition\n",
    "D1x[-1, 0] = 1\n",
    "D1x = D1x / (2 * h)  # scale by 2h\n",
    "\n",
    "# 1D first derivative matrix with periodic boundary for y-derivative\n",
    "D1y = D1x.copy()  # Same structure due to symmetry\n",
    "\n",
    "# Construct 2D Laplacian matrix (A = ∂²_x + ∂²_y)\n",
    "I = eye(n).toarray()  # identity matrix\n",
    "A = kron(I, D2) + kron(D2, I)\n",
    "\n",
    "# Construct 2D partial derivative matrices (B = ∂_x, C = ∂_y)\n",
    "B = kron(D1x, I)  # partial derivative with respect to x\n",
    "C = kron(I, D1y)  # partial derivative with respect to y\n",
    "\n",
    "# Convert sparse matrices to full arrays for ASCII output\n",
    "A1 = A.toarray()  # Laplacian matrix\n",
    "A2 = B.toarray()  # x-derivative matrix\n",
    "A3 = C.toarray()  # y-derivative matrix\n",
    "\n",
    "A1, A2, A3"
   ]
  }
 ],
 "metadata": {
  "kernelspec": {
   "display_name": "Python 3 (ipykernel)",
   "language": "python",
   "name": "python3"
  },
  "language_info": {
   "codemirror_mode": {
    "name": "ipython",
    "version": 3
   },
   "file_extension": ".py",
   "mimetype": "text/x-python",
   "name": "python",
   "nbconvert_exporter": "python",
   "pygments_lexer": "ipython3",
   "version": "3.11.3"
  }
 },
 "nbformat": 4,
 "nbformat_minor": 5
}
